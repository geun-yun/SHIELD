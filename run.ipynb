{
 "cells": [
  {
   "cell_type": "code",
   "execution_count": 21,
   "id": "b0cc0766",
   "metadata": {},
   "outputs": [
    {
     "name": "stdout",
     "output_type": "stream",
     "text": [
      "Requirement already satisfied: numpy in c:\\users\\geunn\\anaconda3\\lib\\site-packages (from -r requirements.txt (line 1)) (1.26.4)\n",
      "Requirement already satisfied: pandas in c:\\users\\geunn\\anaconda3\\lib\\site-packages (from -r requirements.txt (line 2)) (2.2.2)\n",
      "Requirement already satisfied: scikit-learn in c:\\users\\geunn\\anaconda3\\lib\\site-packages (from -r requirements.txt (line 3)) (1.5.1)\n",
      "Requirement already satisfied: shap in c:\\users\\geunn\\anaconda3\\lib\\site-packages (from -r requirements.txt (line 4)) (0.47.2)\n",
      "Requirement already satisfied: matplotlib in c:\\users\\geunn\\anaconda3\\lib\\site-packages (from -r requirements.txt (line 5)) (3.9.2)\n",
      "Requirement already satisfied: seaborn in c:\\users\\geunn\\anaconda3\\lib\\site-packages (from -r requirements.txt (line 6)) (0.13.2)\n",
      "Requirement already satisfied: pyitlib in c:\\users\\geunn\\anaconda3\\lib\\site-packages (from -r requirements.txt (line 7)) (0.3.0)\n",
      "Requirement already satisfied: ucimlrepo in c:\\users\\geunn\\anaconda3\\lib\\site-packages (from -r requirements.txt (line 8)) (0.0.7)\n",
      "Requirement already satisfied: xgboost in c:\\users\\geunn\\anaconda3\\lib\\site-packages (from -r requirements.txt (line 9)) (3.0.0)\n",
      "Requirement already satisfied: python-dateutil>=2.8.2 in c:\\users\\geunn\\anaconda3\\lib\\site-packages (from pandas->-r requirements.txt (line 2)) (2.9.0.post0)\n",
      "Requirement already satisfied: pytz>=2020.1 in c:\\users\\geunn\\anaconda3\\lib\\site-packages (from pandas->-r requirements.txt (line 2)) (2024.1)\n",
      "Requirement already satisfied: tzdata>=2022.7 in c:\\users\\geunn\\anaconda3\\lib\\site-packages (from pandas->-r requirements.txt (line 2)) (2023.3)\n",
      "Requirement already satisfied: scipy>=1.6.0 in c:\\users\\geunn\\anaconda3\\lib\\site-packages (from scikit-learn->-r requirements.txt (line 3)) (1.13.1)\n",
      "Requirement already satisfied: joblib>=1.2.0 in c:\\users\\geunn\\anaconda3\\lib\\site-packages (from scikit-learn->-r requirements.txt (line 3)) (1.4.2)\n",
      "Requirement already satisfied: threadpoolctl>=3.1.0 in c:\\users\\geunn\\anaconda3\\lib\\site-packages (from scikit-learn->-r requirements.txt (line 3)) (3.5.0)\n",
      "Requirement already satisfied: tqdm>=4.27.0 in c:\\users\\geunn\\anaconda3\\lib\\site-packages (from shap->-r requirements.txt (line 4)) (4.66.5)\n",
      "Requirement already satisfied: packaging>20.9 in c:\\users\\geunn\\anaconda3\\lib\\site-packages (from shap->-r requirements.txt (line 4)) (24.1)\n",
      "Requirement already satisfied: slicer==0.0.8 in c:\\users\\geunn\\anaconda3\\lib\\site-packages (from shap->-r requirements.txt (line 4)) (0.0.8)\n",
      "Requirement already satisfied: numba>=0.54 in c:\\users\\geunn\\anaconda3\\lib\\site-packages (from shap->-r requirements.txt (line 4)) (0.60.0)\n",
      "Requirement already satisfied: cloudpickle in c:\\users\\geunn\\anaconda3\\lib\\site-packages (from shap->-r requirements.txt (line 4)) (3.0.0)\n",
      "Requirement already satisfied: typing-extensions in c:\\users\\geunn\\anaconda3\\lib\\site-packages (from shap->-r requirements.txt (line 4)) (4.11.0)\n",
      "Requirement already satisfied: contourpy>=1.0.1 in c:\\users\\geunn\\anaconda3\\lib\\site-packages (from matplotlib->-r requirements.txt (line 5)) (1.2.0)\n",
      "Requirement already satisfied: cycler>=0.10 in c:\\users\\geunn\\anaconda3\\lib\\site-packages (from matplotlib->-r requirements.txt (line 5)) (0.11.0)\n",
      "Requirement already satisfied: fonttools>=4.22.0 in c:\\users\\geunn\\anaconda3\\lib\\site-packages (from matplotlib->-r requirements.txt (line 5)) (4.51.0)\n",
      "Requirement already satisfied: kiwisolver>=1.3.1 in c:\\users\\geunn\\anaconda3\\lib\\site-packages (from matplotlib->-r requirements.txt (line 5)) (1.4.4)\n",
      "Requirement already satisfied: pillow>=8 in c:\\users\\geunn\\anaconda3\\lib\\site-packages (from matplotlib->-r requirements.txt (line 5)) (10.4.0)\n",
      "Requirement already satisfied: pyparsing>=2.3.1 in c:\\users\\geunn\\anaconda3\\lib\\site-packages (from matplotlib->-r requirements.txt (line 5)) (3.1.2)\n",
      "Requirement already satisfied: future>=0.16.0 in c:\\users\\geunn\\anaconda3\\lib\\site-packages (from pyitlib->-r requirements.txt (line 7)) (1.0.0)\n",
      "Requirement already satisfied: certifi>=2020.12.5 in c:\\users\\geunn\\anaconda3\\lib\\site-packages (from ucimlrepo->-r requirements.txt (line 8)) (2024.12.14)\n",
      "Requirement already satisfied: llvmlite<0.44,>=0.43.0dev0 in c:\\users\\geunn\\anaconda3\\lib\\site-packages (from numba>=0.54->shap->-r requirements.txt (line 4)) (0.43.0)\n",
      "Requirement already satisfied: six>=1.5 in c:\\users\\geunn\\anaconda3\\lib\\site-packages (from python-dateutil>=2.8.2->pandas->-r requirements.txt (line 2)) (1.16.0)\n",
      "Requirement already satisfied: colorama in c:\\users\\geunn\\anaconda3\\lib\\site-packages (from tqdm>=4.27.0->shap->-r requirements.txt (line 4)) (0.4.6)\n"
     ]
    }
   ],
   "source": [
    "!pip install -r requirements.txt"
   ]
  },
  {
   "cell_type": "code",
   "execution_count": 22,
   "id": "1cdade0b",
   "metadata": {},
   "outputs": [],
   "source": [
    "%reload_ext autoreload\n",
    "%autoreload 2\n",
    "\n",
    "from main import run_full_pipeline"
   ]
  },
  {
   "cell_type": "code",
   "execution_count": 23,
   "id": "9b1d4cdd",
   "metadata": {},
   "outputs": [
    {
     "name": "stdout",
     "output_type": "stream",
     "text": [
      "\n",
      "==== Running pipeline for: Obesity ====\n",
      "(Obesity) Metadata:\n",
      "{'uci_id': 544, 'name': 'Estimation of Obesity Levels Based On Eating Habits and Physical Condition ', 'repository_url': 'https://archive.ics.uci.edu/dataset/544/estimation+of+obesity+levels+based+on+eating+habits+and+physical+condition', 'data_url': 'https://archive.ics.uci.edu/static/public/544/data.csv', 'abstract': 'This dataset include data for the estimation of obesity levels in individuals from the countries of Mexico, Peru and Colombia, based on their eating habits and physical condition. ', 'area': 'Health and Medicine', 'tasks': ['Classification', 'Regression', 'Clustering'], 'characteristics': ['Multivariate'], 'num_instances': 2111, 'num_features': 16, 'feature_types': ['Integer'], 'demographics': ['Gender', 'Age'], 'target_col': ['NObeyesdad'], 'index_col': None, 'has_missing_values': 'no', 'missing_values_symbol': None, 'year_of_dataset_creation': 2019, 'last_updated': 'Tue Sep 10 2024', 'dataset_doi': '10.24432/C5H31Z', 'creators': [], 'intro_paper': {'ID': 358, 'type': 'NATIVE', 'title': 'Dataset for estimation of obesity levels based on eating habits and physical condition in individuals from Colombia, Peru and Mexico', 'authors': 'Fabio Mendoza Palechor, Alexis De la Hoz Manotas', 'venue': 'Data in Brief', 'year': 2019, 'journal': None, 'DOI': '10.1016/j.dib.2019.104344', 'URL': 'https://www.semanticscholar.org/paper/35b40bacd2ffa9370885b7a3004d88995fd1d011', 'sha': None, 'corpus': None, 'arxiv': None, 'mag': None, 'acl': None, 'pmid': None, 'pmcid': None}, 'additional_info': {'summary': 'This dataset include data for the estimation of obesity levels in individuals from the countries of Mexico, Peru and Colombia, based on their eating habits and physical condition. The data contains 17 attributes and 2111 records, the records are labeled with the class variable NObesity (Obesity Level), that allows classification of the data using the values of Insufficient Weight, Normal Weight, Overweight Level I, Overweight Level II, Obesity Type I, Obesity Type II and Obesity Type III. 77% of the data was generated synthetically using the Weka tool and the SMOTE filter, 23% of the data was collected directly from users through a web platform.', 'purpose': None, 'funded_by': None, 'instances_represent': None, 'recommended_data_splits': None, 'sensitive_data': None, 'preprocessing_description': None, 'variable_info': 'Read the article (https://doi.org/10.1016/j.dib.2019.104344) to see the description of the attributes.', 'citation': None}}\n",
      "(Obesity) Variables:\n",
      "                              name     role         type demographic  \\\n",
      "0                           Gender  Feature  Categorical      Gender   \n",
      "1                              Age  Feature   Continuous         Age   \n",
      "2                           Height  Feature   Continuous        None   \n",
      "3                           Weight  Feature   Continuous        None   \n",
      "4   family_history_with_overweight  Feature       Binary        None   \n",
      "5                             FAVC  Feature       Binary        None   \n",
      "6                             FCVC  Feature      Integer        None   \n",
      "7                              NCP  Feature   Continuous        None   \n",
      "8                             CAEC  Feature  Categorical        None   \n",
      "9                            SMOKE  Feature       Binary        None   \n",
      "10                            CH2O  Feature   Continuous        None   \n",
      "11                             SCC  Feature       Binary        None   \n",
      "12                             FAF  Feature   Continuous        None   \n",
      "13                             TUE  Feature      Integer        None   \n",
      "14                            CALC  Feature  Categorical        None   \n",
      "15                          MTRANS  Feature  Categorical        None   \n",
      "16                      NObeyesdad   Target  Categorical        None   \n",
      "\n",
      "                                          description units missing_values  \n",
      "0                                                None  None             no  \n",
      "1                                                None  None             no  \n",
      "2                                                None  None             no  \n",
      "3                                                None  None             no  \n",
      "4   Has a family member suffered or suffers from o...  None             no  \n",
      "5            Do you eat high caloric food frequently?  None             no  \n",
      "6        Do you usually eat vegetables in your meals?  None             no  \n",
      "7              How many main meals do you have daily?  None             no  \n",
      "8                  Do you eat any food between meals?  None             no  \n",
      "9                                       Do you smoke?  None             no  \n",
      "10                 How much water do you drink daily?  None             no  \n",
      "11         Do you monitor the calories you eat daily?  None             no  \n",
      "12           How often do you have physical activity?  None             no  \n",
      "13  How much time do you use technological devices...  None             no  \n",
      "14                    How often do you drink alcohol?  None             no  \n",
      "15           Which transportation do you usually use?  None             no  \n",
      "16                                      Obesity level  None             no  \n",
      "(Obesity) Dropped rows with NA: 0\n",
      "    Age  Height  Weight  FCVC  NCP  CAEC  CH2O  FAF  TUE  CALC  ...  FAVC_yes  \\\n",
      "0  21.0    1.62    64.0   2.0  3.0   1.0   2.0  0.0  1.0   0.0  ...       0.0   \n",
      "1  21.0    1.52    56.0   3.0  3.0   1.0   3.0  3.0  0.0   1.0  ...       0.0   \n",
      "2  23.0    1.80    77.0   2.0  3.0   1.0   2.0  2.0  1.0   2.0  ...       0.0   \n",
      "3  27.0    1.80    87.0   3.0  3.0   1.0   2.0  2.0  0.0   2.0  ...       0.0   \n",
      "4  22.0    1.78    89.8   2.0  1.0   1.0   2.0  0.0  0.0   1.0  ...       0.0   \n",
      "5  29.0    1.62    53.0   2.0  3.0   1.0   2.0  0.0  0.0   1.0  ...       1.0   \n",
      "6  23.0    1.50    55.0   3.0  3.0   1.0   2.0  1.0  0.0   1.0  ...       1.0   \n",
      "7  22.0    1.64    53.0   2.0  3.0   1.0   2.0  3.0  0.0   1.0  ...       0.0   \n",
      "8  24.0    1.78    64.0   3.0  3.0   1.0   2.0  1.0  1.0   2.0  ...       1.0   \n",
      "9  22.0    1.72    68.0   2.0  3.0   1.0   2.0  1.0  1.0   0.0  ...       1.0   \n",
      "\n",
      "   SMOKE_no  SMOKE_yes  SCC_no  SCC_yes  MTRANS_Automobile  MTRANS_Bike  \\\n",
      "0       1.0        0.0     1.0      0.0                0.0          0.0   \n",
      "1       0.0        1.0     0.0      1.0                0.0          0.0   \n",
      "2       1.0        0.0     1.0      0.0                0.0          0.0   \n",
      "3       1.0        0.0     1.0      0.0                0.0          0.0   \n",
      "4       1.0        0.0     1.0      0.0                0.0          0.0   \n",
      "5       1.0        0.0     1.0      0.0                1.0          0.0   \n",
      "6       1.0        0.0     1.0      0.0                0.0          0.0   \n",
      "7       1.0        0.0     1.0      0.0                0.0          0.0   \n",
      "8       1.0        0.0     1.0      0.0                0.0          0.0   \n",
      "9       1.0        0.0     1.0      0.0                0.0          0.0   \n",
      "\n",
      "   MTRANS_Motorbike  MTRANS_Public_Transportation  MTRANS_Walking  \n",
      "0               0.0                           1.0             0.0  \n",
      "1               0.0                           1.0             0.0  \n",
      "2               0.0                           1.0             0.0  \n",
      "3               0.0                           0.0             1.0  \n",
      "4               0.0                           1.0             0.0  \n",
      "5               0.0                           0.0             0.0  \n",
      "6               1.0                           0.0             0.0  \n",
      "7               0.0                           1.0             0.0  \n",
      "8               0.0                           1.0             0.0  \n",
      "9               0.0                           1.0             0.0  \n",
      "\n",
      "[10 rows x 26 columns]\n",
      "Preprocessed columns:  ['Age', 'Height', 'Weight', 'FCVC', 'NCP', 'CAEC', 'CH2O', 'FAF', 'TUE', 'CALC', 'NObeyesdad', 'Gender_Female', 'Gender_Male', 'family_history_with_overweight_no', 'family_history_with_overweight_yes', 'FAVC_no', 'FAVC_yes', 'SMOKE_no', 'SMOKE_yes', 'SCC_no', 'SCC_yes', 'MTRANS_Automobile', 'MTRANS_Bike', 'MTRANS_Motorbike', 'MTRANS_Public_Transportation', 'MTRANS_Walking']\n"
     ]
    },
    {
     "ename": "AssertionError",
     "evalue": "",
     "output_type": "error",
     "traceback": [
      "\u001b[1;31m---------------------------------------------------------------------------\u001b[0m",
      "\u001b[1;31mAssertionError\u001b[0m                            Traceback (most recent call last)",
      "Cell \u001b[1;32mIn[23], line 1\u001b[0m\n\u001b[1;32m----> 1\u001b[0m \u001b[43mrun_full_pipeline\u001b[49m\u001b[43m(\u001b[49m\u001b[38;5;124;43m\"\u001b[39;49m\u001b[38;5;124;43mObesity\u001b[39;49m\u001b[38;5;124;43m\"\u001b[39;49m\u001b[43m)\u001b[49m\n",
      "File \u001b[1;32md:\\ANU\\2025_Semester_1\\COMP4550\\SHIELD\\main.py:27\u001b[0m, in \u001b[0;36mrun_full_pipeline\u001b[1;34m(dataset_name, num_groups, encoding_dim, test_size, random_state)\u001b[0m\n\u001b[0;32m     24\u001b[0m data, _ \u001b[38;5;241m=\u001b[39m preprocess(dataset_name, needs_normalisation\u001b[38;5;241m=\u001b[39m\u001b[38;5;28;01mFalse\u001b[39;00m, needs_encoding\u001b[38;5;241m=\u001b[39m\u001b[38;5;28;01mTrue\u001b[39;00m)\n\u001b[0;32m     26\u001b[0m \u001b[38;5;66;03m# Group features and encode\u001b[39;00m\n\u001b[1;32m---> 27\u001b[0m groups \u001b[38;5;241m=\u001b[39m \u001b[43mgroup_dissimilar\u001b[49m\u001b[43m(\u001b[49m\u001b[43mdata\u001b[49m\u001b[43m,\u001b[49m\u001b[43m \u001b[49m\u001b[43mnum_groups\u001b[49m\u001b[38;5;241;43m=\u001b[39;49m\u001b[43mnum_groups\u001b[49m\u001b[43m)\u001b[49m\n",
      "File \u001b[1;32md:\\ANU\\2025_Semester_1\\COMP4550\\SHIELD\\feature_group.py:36\u001b[0m, in \u001b[0;36mgroup_dissimilar\u001b[1;34m(data, num_groups)\u001b[0m\n\u001b[0;32m     33\u001b[0m y \u001b[38;5;241m=\u001b[39m data[features[j]]\u001b[38;5;241m.\u001b[39mvalues\n\u001b[0;32m     34\u001b[0m z \u001b[38;5;241m=\u001b[39m data[target]\u001b[38;5;241m.\u001b[39mvalues\n\u001b[1;32m---> 36\u001b[0m cmi \u001b[38;5;241m=\u001b[39m \u001b[43mdrv\u001b[49m\u001b[38;5;241;43m.\u001b[39;49m\u001b[43minformation_mutual_conditional\u001b[49m\u001b[43m(\u001b[49m\u001b[43mx\u001b[49m\u001b[43m,\u001b[49m\u001b[43m \u001b[49m\u001b[43my\u001b[49m\u001b[43m,\u001b[49m\u001b[43m \u001b[49m\u001b[43mz\u001b[49m\u001b[43m)\u001b[49m\n\u001b[0;32m     37\u001b[0m h_x \u001b[38;5;241m=\u001b[39m drv\u001b[38;5;241m.\u001b[39mentropy(x)\n\u001b[0;32m     38\u001b[0m h_y \u001b[38;5;241m=\u001b[39m drv\u001b[38;5;241m.\u001b[39mentropy(y)\n",
      "File \u001b[1;32mc:\\Users\\geunn\\anaconda3\\Lib\\site-packages\\pyitlib\\discrete_random_variable.py:1368\u001b[0m, in \u001b[0;36minformation_mutual_conditional\u001b[1;34m(X, Y, Z, cartesian_product, base, fill_value, estimator, Alphabet_X, Alphabet_Y, Alphabet_Z, keep_dims)\u001b[0m\n\u001b[0;32m   1365\u001b[0m \u001b[38;5;28;01mif\u001b[39;00m \u001b[38;5;129;01mnot\u001b[39;00m (np\u001b[38;5;241m.\u001b[39misscalar(base) \u001b[38;5;129;01mand\u001b[39;00m np\u001b[38;5;241m.\u001b[39misreal(base) \u001b[38;5;129;01mand\u001b[39;00m base \u001b[38;5;241m>\u001b[39m \u001b[38;5;241m0\u001b[39m):\n\u001b[0;32m   1366\u001b[0m     \u001b[38;5;28;01mraise\u001b[39;00m \u001b[38;5;167;01mValueError\u001b[39;00m(\u001b[38;5;124m\"\u001b[39m\u001b[38;5;124marg base not a positive real-valued scalar\u001b[39m\u001b[38;5;124m\"\u001b[39m)\n\u001b[1;32m-> 1368\u001b[0m S, fill_value \u001b[38;5;241m=\u001b[39m \u001b[43m_map_observations_to_integers\u001b[49m\u001b[43m(\u001b[49m\u001b[43m(\u001b[49m\u001b[43mX\u001b[49m\u001b[43m,\u001b[49m\u001b[43m \u001b[49m\u001b[43mAlphabet_X\u001b[49m\u001b[43m,\u001b[49m\n\u001b[0;32m   1369\u001b[0m \u001b[43m                                               \u001b[49m\u001b[43mY\u001b[49m\u001b[43m,\u001b[49m\u001b[43m \u001b[49m\u001b[43mAlphabet_Y\u001b[49m\u001b[43m,\u001b[49m\n\u001b[0;32m   1370\u001b[0m \u001b[43m                                               \u001b[49m\u001b[43mZ\u001b[49m\u001b[43m,\u001b[49m\u001b[43m \u001b[49m\u001b[43mAlphabet_Z\u001b[49m\u001b[43m)\u001b[49m\u001b[43m,\u001b[49m\n\u001b[0;32m   1371\u001b[0m \u001b[43m                                              \u001b[49m\u001b[43m(\u001b[49m\u001b[43mfill_value_X\u001b[49m\u001b[43m,\u001b[49m\n\u001b[0;32m   1372\u001b[0m \u001b[43m                                               \u001b[49m\u001b[43mfill_value_Alphabet_X\u001b[49m\u001b[43m,\u001b[49m\n\u001b[0;32m   1373\u001b[0m \u001b[43m                                               \u001b[49m\u001b[43mfill_value_Y\u001b[49m\u001b[43m,\u001b[49m\n\u001b[0;32m   1374\u001b[0m \u001b[43m                                               \u001b[49m\u001b[43mfill_value_Alphabet_Y\u001b[49m\u001b[43m,\u001b[49m\n\u001b[0;32m   1375\u001b[0m \u001b[43m                                               \u001b[49m\u001b[43mfill_value_Z\u001b[49m\u001b[43m,\u001b[49m\n\u001b[0;32m   1376\u001b[0m \u001b[43m                                               \u001b[49m\u001b[43mfill_value_Alphabet_Z\u001b[49m\u001b[43m)\u001b[49m\u001b[43m)\u001b[49m\n\u001b[0;32m   1377\u001b[0m X, Alphabet_X, Y, Alphabet_Y, Z, Alphabet_Z \u001b[38;5;241m=\u001b[39m S\n\u001b[0;32m   1379\u001b[0m \u001b[38;5;28;01mif\u001b[39;00m \u001b[38;5;129;01mnot\u001b[39;00m cartesian_product:\n",
      "File \u001b[1;32mc:\\Users\\geunn\\anaconda3\\Lib\\site-packages\\pyitlib\\discrete_random_variable.py:4690\u001b[0m, in \u001b[0;36m_map_observations_to_integers\u001b[1;34m(Symbol_matrices, Fill_values)\u001b[0m\n\u001b[0;32m   4687\u001b[0m         \u001b[38;5;28;01massert\u001b[39;00m(\u001b[38;5;129;01mnot\u001b[39;00m np\u001b[38;5;241m.\u001b[39many(A \u001b[38;5;241m==\u001b[39m FILL_VALUE))\n\u001b[0;32m   4688\u001b[0m         A[A \u001b[38;5;241m==\u001b[39m f] \u001b[38;5;241m=\u001b[39m FILL_VALUE\n\u001b[1;32m-> 4690\u001b[0m \u001b[38;5;28;01massert\u001b[39;00m(np\u001b[38;5;241m.\u001b[39mall([A\u001b[38;5;241m.\u001b[39mdtype \u001b[38;5;241m==\u001b[39m \u001b[38;5;124m'\u001b[39m\u001b[38;5;124mint\u001b[39m\u001b[38;5;124m'\u001b[39m \u001b[38;5;28;01mfor\u001b[39;00m A \u001b[38;5;129;01min\u001b[39;00m Symbol_matrices]))\n\u001b[0;32m   4691\u001b[0m \u001b[38;5;28;01mreturn\u001b[39;00m Symbol_matrices, FILL_VALUE\n",
      "\u001b[1;31mAssertionError\u001b[0m: "
     ]
    }
   ],
   "source": [
    "run_full_pipeline(\"Obesity\")"
   ]
  },
  {
   "cell_type": "code",
   "execution_count": null,
   "id": "9dda49c9",
   "metadata": {},
   "outputs": [],
   "source": []
  }
 ],
 "metadata": {
  "kernelspec": {
   "display_name": "base",
   "language": "python",
   "name": "python3"
  },
  "language_info": {
   "codemirror_mode": {
    "name": "ipython",
    "version": 3
   },
   "file_extension": ".py",
   "mimetype": "text/x-python",
   "name": "python",
   "nbconvert_exporter": "python",
   "pygments_lexer": "ipython3",
   "version": "3.12.7"
  }
 },
 "nbformat": 4,
 "nbformat_minor": 5
}
